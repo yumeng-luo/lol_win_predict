{
 "cells": [
  {
   "cell_type": "markdown",
   "id": "formal-tuner",
   "metadata": {},
   "source": [
    "# Define class Player\n"
   ]
  },
  {
   "cell_type": "code",
   "execution_count": 1,
   "id": "portuguese-marina",
   "metadata": {},
   "outputs": [],
   "source": [
    "class Player:\n",
    "    def __init__(self, name, id_):\n",
    "        self.summoner_id = id_\n",
    "        self.summoner_name = name\n",
    "        self.champion_mastery = {}\n",
    "        self.champion_count = 0\n",
    "        self.win_rate_sum = 0\n",
    "    def add_champion_mastery(self, champion, rate, match):\n",
    "        self.champion_mastery[champion] = [rate, match]\n",
    "        if match > 4:\n",
    "            self.champion_count += 1\n",
    "            self.win_rate_sum += rate\n",
    "    def print_champion_mastery(self):\n",
    "        print(\"===================\"+self.summoner_name+\"===================\")\n",
    "        print(\"Average win rate: \"+str(self.avg_win_rate()))\n",
    "        for key, val in self.champion_mastery.items():\n",
    "            print(key, val)\n",
    "    def avg_win_rate(self):\n",
    "        return self.win_rate_sum/self.champion_count if self.champion_count!=0 else \"NA\""
   ]
  },
  {
   "cell_type": "markdown",
   "id": "naked-sunrise",
   "metadata": {},
   "source": [
    "# Define class Team"
   ]
  },
  {
   "cell_type": "code",
   "execution_count": 8,
   "id": "convinced-discovery",
   "metadata": {},
   "outputs": [],
   "source": [
    "class Team:\n",
    "    def __init__(self, summoner_list):\n",
    "        self.summoner_list = summoner_list\n",
    "        self.champion_list = {}\n",
    "        for p in summoner_list:\n",
    "            for c, win_match in p.champion_mastery.items():\n",
    "                if c in self.champion_list:\n",
    "                    self.champion_list[c][p.summoner_name] = win_match\n",
    "                else:\n",
    "                    self.champion_list[c]={p.summoner_name:win_match}\n",
    "    def print_pc_chart(self, c_list):\n",
    "        # print member win rate data\n",
    "        self.p_c_chart = []\n",
    "        for p in self.summoner_list:\n",
    "            self.p_c_chart.append([p.summoner_name])\n",
    "            for c in c_list:\n",
    "                if c in p.champion_mastery:\n",
    "                    self.p_c_chart[-1].append(p.champion_mastery[c])\n",
    "                else:\n",
    "                    self.p_c_chart[-1].append([\"NA\" , 0])\n",
    "        \n",
    "        from tabulate import tabulate\n",
    "        data = []\n",
    "        for r in self.p_c_chart:\n",
    "            row = [r[0]]\n",
    "            for w_m in r[1:]:\n",
    "                win, match = w_m[0], w_m[1]\n",
    "                s = \"\"\n",
    "                if win == \"NA\":\n",
    "                    s += win\n",
    "                else:\n",
    "                    if win > 70:\n",
    "                        s += \"* \"\n",
    "                    elif win < 22:\n",
    "                        s += \"! \"\n",
    "                \n",
    "                    s += str(win)+\"%\"\n",
    "                    if match <= 4:\n",
    "                        s += \" (\"+str(match)+\")\" \n",
    "                row.append(s)\n",
    "            data.append(row)\n",
    "                \n",
    "        print (tabulate(data, headers=[\" \"]+c_list))\n",
    "        \n",
    "    def current_win_rate(self, c_choice):\n",
    "        assert len(c_choice) == len(self.summoner_list)\n",
    "        \n",
    "        win_sum = 0\n",
    "        for i, c in enumerate(c_choice):\n",
    "            avg = self.summoner_list[i].avg_win_rate()\n",
    "            avg = round(avg,2) if avg!=\"NA\" else 0\n",
    "            \n",
    "            if c in self.summoner_list[i].champion_mastery:\n",
    "                win, match = self.summoner_list[i].champion_mastery[c][0], self.summoner_list[i].champion_mastery[c][1] \n",
    "                if match < 5:\n",
    "                    win_sum += int(float(win)*float(match)/5. + float(avg)*float(5-match)/5.)\n",
    "                else:\n",
    "                    win_sum += win\n",
    "            else:\n",
    "                win_sum += avg\n",
    "                \n",
    "        return win_sum / len(c_choice)\n",
    "    \n",
    "    def print_combo_details(self, c_list):\n",
    "        assert len(c_list) == len(self.summoner_list)\n",
    "        from tabulate import tabulate\n",
    "        \n",
    "        data = []\n",
    "        for i, p in enumerate(self.summoner_list):\n",
    "            s, c = \"\" , c_list[i] \n",
    "            row = [p.summoner_name, c]\n",
    "            avg = p.avg_win_rate()\n",
    "            avg = round(avg,2) if avg!=\"NA\" else 0\n",
    "            if c in p.champion_mastery:\n",
    "                win, match = p.champion_mastery[c][0], p.champion_mastery[c][1]\n",
    "                s += str(win)+\"% Win for \"+str(match)+\" games \"\n",
    "                if match < 5:\n",
    "                    s += \"& \"+str(avg)+\"% Average Win rate\"\n",
    "                \n",
    "            else:\n",
    "                s += str(avg)+\"% Average Win rate\"\n",
    "            \n",
    "            row.append(s)\n",
    "            data.append(row)\n",
    "        print (tabulate(data, headers=[\"Summoner Name\", \"Champion\", \"Details\"]))\n",
    "        print(\"Win Rate: \"+str(round(self.current_win_rate(c_list),2)))\n",
    "        \n",
    "    def best_combo(self, c_list):\n",
    "        assert len(c_list) >= len(self.summoner_list)\n",
    "        \n",
    "        # generate all possible combo\n",
    "        def bc(so_far, remain, count, result):\n",
    "            if len(so_far) == count:\n",
    "                result.append(so_far)\n",
    "                return \n",
    "        \n",
    "            for i in range(len(remain)):\n",
    "                bc(so_far+[remain[i]], remain[:i]+remain[i+1:], count, result)\n",
    "               \n",
    "        combo = []\n",
    "        bc([], c_list, len(self.summoner_list), combo)\n",
    "        \n",
    "        import heapq\n",
    "        best = []\n",
    "        for com in combo[:3]:\n",
    "            rate = self.current_win_rate(com)\n",
    "            heapq.heappush(best, (rate, com))\n",
    "            \n",
    "        for com in combo[3:]:\n",
    "            rate = self.current_win_rate(com)\n",
    "            heapq.heappushpop(best, (rate, com))\n",
    "            \n",
    "        sort_best = []\n",
    "        while best:\n",
    "            sort_best.append(heapq.heappop(best))\n",
    "        return sort_best[::-1]\n",
    "    \n",
    "    def print_best_combo_details(self, c_list):\n",
    "        best_combos = self.best_combo(c_list) \n",
    "        for i, b in enumerate(best_combos):\n",
    "            print(\"================================Combo \"+str(i+1)+\"===============================\")\n",
    "            self.print_combo_details(b[1])"
   ]
  },
  {
   "cell_type": "markdown",
   "id": "sticky-dressing",
   "metadata": {},
   "source": [
    "# Parse from file html and scrape mastery score"
   ]
  },
  {
   "cell_type": "code",
   "execution_count": 3,
   "id": "expired-raleigh",
   "metadata": {},
   "outputs": [],
   "source": [
    "def parse_html(file_name):\n",
    "# input: html file location/name.html\n",
    "# output: parsed Player object\n",
    "    print(\"Processing file: \"+file_name)\n",
    "\n",
    "    with open(file_name) as f:\n",
    "        lines = f.readlines()\n",
    "        # only consider normal game plays\n",
    "        # other type: season 2021, season 2019, etc\n",
    "        normal = []\n",
    "        start = False\n",
    "        for l in lines:\n",
    "            if \"<span class=\\\"Name\\\">\" in l:\n",
    "                name = l.split(\"<span class=\\\"Name\\\">\")[1].split(\"<\")[0]\n",
    "            if \"season=normal\" in l or \"tabItem normal\" in l:\n",
    "                start = True\n",
    "            if start and \"</div>\" == l:\n",
    "                start = False\n",
    "            if start:\n",
    "                normal.append(l)\n",
    "            if \"summonerId=\" in l:\n",
    "                id_ = l.split(\"summonerId=\")[1].split('&')[0]\n",
    "        print(\"Found name: \"+name+\" Id: \"+ id_)\n",
    "        \n",
    "        \n",
    "        # process normal game champion win rate\n",
    "        c_start = False\n",
    "        summoner = Player(name, id_)\n",
    "        for l in normal:\n",
    "            if '\\t\\t\\t\\t<td class=\"ChampionName Cell\" data-value=' in l:\n",
    "                c_start = True\n",
    "                champion = l.split('\"')[3].replace('&#39;','\\'')\n",
    "                win, lose, win_rate = 0, 0, 0\n",
    "            if c_start and '\\t\\t\\t\\t\\t\\t\\t<span class=\"WinRatio' in l:\n",
    "                c_start = False\n",
    "                win_rate = int(l.split('>')[1].split('%')[0])\n",
    "                summoner.add_champion_mastery(champion, win_rate, win+lose)\n",
    "            if c_start and '\\t\\t\\t\\t\\t\\t\\t\\t\\t<div class=\"Text Left\">' in l:\n",
    "                win = int(l.split('>')[1].split('W')[0])\n",
    "\n",
    "            if c_start and '\\t\\t\\t\\t\\t\\t\\t\\t\\t<div class=\"Text Right\">' in l:\n",
    "                lose = int(l.split('>')[1].split('L')[0])\n",
    "        print(\"Average win rate: \"+str(summoner.avg_win_rate()))\n",
    "    return summoner\n"
   ]
  },
  {
   "cell_type": "code",
   "execution_count": 4,
   "id": "contained-lingerie",
   "metadata": {},
   "outputs": [
    {
     "name": "stdout",
     "output_type": "stream",
     "text": [
      "Processing file: MageTerra.html\n",
      "Found name: MageTerra Id: 34663269\n",
      "Average win rate: 48.22222222222222\n",
      "Processing file: TheHappyLeague.html\n",
      "Found name: TheHappyLeague Id: 37035766\n",
      "Average win rate: 50.52\n",
      "Processing file: height190.html\n",
      "Found name: height190 Id: 108361524\n",
      "Average win rate: 54.57142857142857\n",
      "Processing file: IWasAlready.html\n",
      "Found name: IWasAlready Id: 65049997\n",
      "Average win rate: 42.0\n",
      "Processing file: meowtella.html\n",
      "Found name: meowtella Id: 107194196\n",
      "Average win rate: 46.35294117647059\n"
     ]
    }
   ],
   "source": [
    "import os\n",
    "# Scan file from directory and open them\n",
    "summoner_list = []\n",
    "entries = os.listdir('./')\n",
    "for entry in entries:\n",
    "    if \".html\" in entry:\n",
    "        summoner_list.append(parse_html(entry))"
   ]
  },
  {
   "cell_type": "markdown",
   "id": "green-demand",
   "metadata": {},
   "source": [
    "# Form Team and get player champion relations"
   ]
  },
  {
   "cell_type": "markdown",
   "id": "sudden-holmes",
   "metadata": {},
   "source": [
    "# Create Team"
   ]
  },
  {
   "cell_type": "code",
   "execution_count": 9,
   "id": "blessed-delivery",
   "metadata": {},
   "outputs": [],
   "source": [
    "t = Team(summoner_list)"
   ]
  },
  {
   "cell_type": "markdown",
   "id": "stable-stack",
   "metadata": {},
   "source": [
    "# Dice Roll results "
   ]
  },
  {
   "cell_type": "code",
   "execution_count": 10,
   "id": "sunrise-thumb",
   "metadata": {
    "scrolled": false
   },
   "outputs": [
    {
     "name": "stdout",
     "output_type": "stream",
     "text": [
      "                Lillia    Veigar    Vel'Koz     Caitlyn     Fizz     Vayne       Jinx     Twisted Fate    Amumu\n",
      "--------------  --------  --------  ----------  ----------  -------  ----------  -------  --------------  ----------\n",
      "MageTerra       NA        ! 0% (1)  * 100% (1)  * 100% (1)  50% (4)  * 100% (3)  67% (3)  33% (3)         * 100% (2)\n",
      "TheHappyLeague  NA        50% (2)   40%         50% (2)     NA       43%         NA       * 100% (1)      ! 0%\n",
      "height190       65%       54%       * 100%      58%         NA       NA          NA       * 100% (2)      NA\n",
      "IWasAlready     45%       NA        * 100% (1)  67% (3)     ! 20%    36%         33% (3)  ! 0% (3)        ! 0%\n",
      "meowtella       NA        44%       * 100%      50% (2)     NA       * 100% (1)  50%      25% (4)         * 75%\n"
     ]
    }
   ],
   "source": [
    "dice_roll_list = ['Lillia','Veigar','Vel\\'Koz','Caitlyn','Fizz','Vayne','Jinx', 'Twisted Fate', 'Amumu']\n",
    "t.print_pc_chart(dice_roll_list)"
   ]
  },
  {
   "cell_type": "markdown",
   "id": "supreme-insulation",
   "metadata": {},
   "source": [
    "# Best 3 combo "
   ]
  },
  {
   "cell_type": "code",
   "execution_count": 11,
   "id": "impressive-heating",
   "metadata": {},
   "outputs": [
    {
     "name": "stdout",
     "output_type": "stream",
     "text": [
      "================================Combo 1===============================\n",
      "Summoner Name    Champion      Details\n",
      "---------------  ------------  ----------------------------------------------\n",
      "MageTerra        Vayne         100% Win for 3 games & 48.22% Average Win rate\n",
      "TheHappyLeague   Twisted Fate  100% Win for 1 games & 50.52% Average Win rate\n",
      "height190        Vel'Koz       100% Win for 6 games\n",
      "IWasAlready      Neeko         100% Win for 4 games & 42.0% Average Win rate\n",
      "meowtella        Amumu         75% Win for 8 games\n",
      "Win Rate: 80.4\n",
      "================================Combo 2===============================\n",
      "Summoner Name    Champion      Details\n",
      "---------------  ------------  ----------------------------------------------\n",
      "MageTerra        Warwick       71% Win for 14 games\n",
      "TheHappyLeague   Twisted Fate  100% Win for 1 games & 50.52% Average Win rate\n",
      "height190        Vel'Koz       100% Win for 6 games\n",
      "IWasAlready      Neeko         100% Win for 4 games & 42.0% Average Win rate\n",
      "meowtella        Amumu         75% Win for 8 games\n",
      "Win Rate: 78.8\n",
      "================================Combo 3===============================\n",
      "Summoner Name    Champion    Details\n",
      "---------------  ----------  ----------------------------------------------\n",
      "MageTerra        Vayne       100% Win for 3 games & 48.22% Average Win rate\n",
      "TheHappyLeague   Warwick     50.52% Average Win rate\n",
      "height190        Vel'Koz     100% Win for 6 games\n",
      "IWasAlready      Neeko       100% Win for 4 games & 42.0% Average Win rate\n",
      "meowtella        Amumu       75% Win for 8 games\n",
      "Win Rate: 78.5\n"
     ]
    }
   ],
   "source": [
    "dice_roll_list2 = ['Lillia','Veigar','Vel\\'Koz','Caitlyn','Neeko','Vayne','Jinx', 'Twisted Fate', 'Amumu','Warwick']\n",
    "t.print_best_combo_details(dice_roll_list2)"
   ]
  },
  {
   "cell_type": "code",
   "execution_count": null,
   "id": "ready-capture",
   "metadata": {},
   "outputs": [],
   "source": []
  },
  {
   "cell_type": "code",
   "execution_count": null,
   "id": "second-layer",
   "metadata": {},
   "outputs": [],
   "source": []
  }
 ],
 "metadata": {
  "kernelspec": {
   "display_name": "Python 3",
   "language": "python",
   "name": "python3"
  },
  "language_info": {
   "codemirror_mode": {
    "name": "ipython",
    "version": 3
   },
   "file_extension": ".py",
   "mimetype": "text/x-python",
   "name": "python",
   "nbconvert_exporter": "python",
   "pygments_lexer": "ipython3",
   "version": "3.7.10"
  }
 },
 "nbformat": 4,
 "nbformat_minor": 5
}
